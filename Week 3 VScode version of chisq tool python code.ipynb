{
 "cells": [
  {
   "cell_type": "code",
   "execution_count": 1,
   "metadata": {},
   "outputs": [],
   "source": [
    "import numpy as np\n",
    "import scipy.optimize\n",
    "import scipy.stats\n",
    "import random\n",
    "import matplotlib.pyplot as plt\n",
    "import ipywidgets as widgets\n",
    "from IPython.display import display, clear_output"
   ]
  },
  {
   "cell_type": "markdown",
   "metadata": {},
   "source": []
  },
  {
   "cell_type": "code",
   "execution_count": 16,
   "metadata": {},
   "outputs": [
    {
     "data": {
      "application/vnd.jupyter.widget-view+json": {
       "model_id": "8df6e00c88bc4a2d9254f7f3c8a94999",
       "version_major": 2,
       "version_minor": 0
      },
      "text/plain": [
       "IntSlider(value=10, description='Data points:', min=3)"
      ]
     },
     "metadata": {},
     "output_type": "display_data"
    },
    {
     "data": {
      "application/vnd.jupyter.widget-view+json": {
       "model_id": "c40dc5a8e9d9425cb2223ad7b2a16969",
       "version_major": 2,
       "version_minor": 0
      },
      "text/plain": [
       "IntSlider(value=1, description='Number of datasets:', min=1)"
      ]
     },
     "metadata": {},
     "output_type": "display_data"
    },
    {
     "data": {
      "application/vnd.jupyter.widget-view+json": {
       "model_id": "5a25b89f824c4a8c9909903a60c2b09d",
       "version_major": 2,
       "version_minor": 0
      },
      "text/plain": [
       "Dropdown(description='Error type:', options=('Homoscedastic', 'Heteroscedastic'), value='Homoscedastic')"
      ]
     },
     "metadata": {},
     "output_type": "display_data"
    },
    {
     "data": {
      "application/vnd.jupyter.widget-view+json": {
       "model_id": "b5ea1c4b3e064374a92b55ba4fdf1647",
       "version_major": 2,
       "version_minor": 0
      },
      "text/plain": [
       "Dropdown(description='Error size:', index=1, options=('Small', 'Medium', 'Large', 'Huge'), value='Medium')"
      ]
     },
     "metadata": {},
     "output_type": "display_data"
    },
    {
     "data": {
      "application/vnd.jupyter.widget-view+json": {
       "model_id": "acff77354f3943bf9f24a7463e379877",
       "version_major": 2,
       "version_minor": 0
      },
      "text/plain": [
       "Checkbox(value=True, description='Uniform spacing')"
      ]
     },
     "metadata": {},
     "output_type": "display_data"
    },
    {
     "data": {
      "application/vnd.jupyter.widget-view+json": {
       "model_id": "1d8d48901b3149c8bf6fda5f96950523",
       "version_major": 2,
       "version_minor": 0
      },
      "text/plain": [
       "Checkbox(value=True, description='Fixed parameters')"
      ]
     },
     "metadata": {},
     "output_type": "display_data"
    },
    {
     "data": {
      "application/vnd.jupyter.widget-view+json": {
       "model_id": "3485dc9392954831a16e9d9765ead8b7",
       "version_major": 2,
       "version_minor": 0
      },
      "text/plain": [
       "Dropdown(description='Model type:', index=1, options=('Linear model', 'Quadratic model'), value='Quadratic mod…"
      ]
     },
     "metadata": {},
     "output_type": "display_data"
    },
    {
     "data": {
      "application/vnd.jupyter.widget-view+json": {
       "model_id": "d98d20ab206243b2bb205a4b86f9e8f9",
       "version_major": 2,
       "version_minor": 0
      },
      "text/plain": [
       "Checkbox(value=True, description='Show generating model')"
      ]
     },
     "metadata": {},
     "output_type": "display_data"
    },
    {
     "data": {
      "application/vnd.jupyter.widget-view+json": {
       "model_id": "2831c3a559384bb48aef141d12845d92",
       "version_major": 2,
       "version_minor": 0
      },
      "text/plain": [
       "Checkbox(value=False, description='Show linear fit')"
      ]
     },
     "metadata": {},
     "output_type": "display_data"
    },
    {
     "data": {
      "application/vnd.jupyter.widget-view+json": {
       "model_id": "697edcc573e8458bb6b8f2a3469e7f37",
       "version_major": 2,
       "version_minor": 0
      },
      "text/plain": [
       "Checkbox(value=False, description='Show quadratic fit')"
      ]
     },
     "metadata": {},
     "output_type": "display_data"
    },
    {
     "data": {
      "application/vnd.jupyter.widget-view+json": {
       "model_id": "ffb85ac6a036463b8640c4026a4ac0bc",
       "version_major": 2,
       "version_minor": 0
      },
      "text/plain": [
       "Dropdown(description='Sort by:', options=('None', 'Chi-squared (Linear)', 'P-value (Linear)', 'Chi-squared (Qu…"
      ]
     },
     "metadata": {},
     "output_type": "display_data"
    },
    {
     "data": {
      "application/vnd.jupyter.widget-view+json": {
       "model_id": "11e2629eefed450880e0531f26ff0b5a",
       "version_major": 2,
       "version_minor": 0
      },
      "text/plain": [
       "Dropdown(description='Select dataset:', options=(), value=None)"
      ]
     },
     "metadata": {},
     "output_type": "display_data"
    },
    {
     "data": {
      "application/vnd.jupyter.widget-view+json": {
       "model_id": "b79114c42776467fa90039abacc9c139",
       "version_major": 2,
       "version_minor": 0
      },
      "text/plain": [
       "Button(description='Generate new data', style=ButtonStyle())"
      ]
     },
     "metadata": {},
     "output_type": "display_data"
    },
    {
     "data": {
      "application/vnd.jupyter.widget-view+json": {
       "model_id": "c0d00a2a437442309ca7325c0ec6e291",
       "version_major": 2,
       "version_minor": 0
      },
      "text/plain": [
       "Output()"
      ]
     },
     "metadata": {},
     "output_type": "display_data"
    }
   ],
   "source": [
    "#current code (working version)\n",
    "\n",
    "# Functions to generate chi-squared values for a data series.\n",
    "def lin_chisq(params, x_data, y_data, y_err):\n",
    "    a_sol, b_sol = params\n",
    "    model = a_sol + b_sol * x_data\n",
    "    chisqval = np.sum(((y_data - model) / y_err) ** 2)\n",
    "    return chisqval\n",
    "\n",
    "def quad_chisq(params, x_data, y_data, y_err):\n",
    "    a_sol, b_sol, c_sol = params\n",
    "    model = a_sol + b_sol * x_data + c_sol * x_data ** 2\n",
    "    chisqval = np.sum(((y_data - model) / y_err) ** 2)\n",
    "    return chisqval\n",
    "\n",
    "def lin_chisq_fit(xval, yval, yerr):\n",
    "    initial = np.array([0.19, 0.8])\n",
    "    fit = scipy.optimize.minimize(lin_chisq, initial, args=(xval, yval, yerr))\n",
    "    a_soln, b_soln = fit.x\n",
    "    fit_line = a_soln + b_soln * xval\n",
    "    chisq = lin_chisq(fit.x, xval, yval, yerr)\n",
    "\n",
    "    dof = len(xval) - initial.size\n",
    "    p_value = scipy.stats.chi2.sf(chisq, dof)\n",
    "\n",
    "    if p_value > 0.9: fit_acceptable = \"a suspiciously good fit\"\n",
    "    elif p_value > 0.1: fit_acceptable = \"an acceptable fit\"\n",
    "    elif p_value > 0.05: fit_acceptable = \"a marginally acceptable fit\"\n",
    "    elif p_value > 0.01: fit_acceptable = \"a marginally unacceptable fit\"\n",
    "    else: fit_acceptable = \"an unacceptable fit\"\n",
    "\n",
    "    return fit.x, fit_line, chisq, dof, p_value, fit_acceptable\n",
    "\n",
    "def quad_chisq_fit(xval, yval, yerr):\n",
    "    initial = np.array([0.5, 0.5, -0.6])\n",
    "    fit = scipy.optimize.minimize(quad_chisq, initial, args=(xval, yval, yerr))\n",
    "    a_soln, b_soln, c_soln = fit.x\n",
    "    fit_line = a_soln + b_soln * xval + c_soln * xval ** 2\n",
    "    chisq = quad_chisq(fit.x, xval, yval, yerr)\n",
    "    \n",
    "    dof = len(xval) - initial.size\n",
    "    p_value = scipy.stats.chi2.sf(chisq, dof)\n",
    "    \n",
    "    if p_value > 0.9: fit_acceptable = \"a suspiciously good fit\"\n",
    "    elif p_value > 0.1: fit_acceptable = \"an acceptable fit\"\n",
    "    elif p_value > 0.05: fit_acceptable = \"a marginally acceptable fit\"\n",
    "    elif p_value > 0.01: fit_acceptable = \"a marginally unacceptable fit\"\n",
    "    else: fit_acceptable = \"an unacceptable fit\"\n",
    "    \n",
    "    return fit.x, fit_line, chisq, dof, p_value, fit_acceptable\n",
    "\n",
    "def generate_data(num_points, errortype, errorsize, uniform_spacing, fixedparams, modeltype):\n",
    "    if uniform_spacing: x = np.linspace(-1, 1, num_points)\n",
    "    else: x = np.random.uniform(-1, 1, num_points)\n",
    "    newx = np.linspace(-1, 1, 1000)\n",
    "\n",
    "    error_size_map = {\"Small\": 0.02, \"Medium\": 0.1, \"Large\": 0.25, \"Huge\": 0.5}\n",
    "    error_size = error_size_map.get(errorsize)\n",
    "    error_type_map = {\"Homoscedastic\": 0, \"Heteroscedastic\": 1}\n",
    "    error_type = error_type_map.get(errortype)\n",
    "    y_error = np.random.normal(error_size, 0.25 * error_type * error_size, size=x.size)\n",
    "\n",
    "    if fixedparams:\n",
    "        if modeltype == \"Linear model\":\n",
    "            y = [0.19 + 0.8 * np.random.normal(x[i], y_error[i]) for i in range(num_points)]\n",
    "            genfn = 0.19 + 0.8 * newx\n",
    "        elif modeltype == \"Quadratic model\":\n",
    "            y = [0.5 + 0.5 * np.random.normal(x[i], y_error[i]) - 0.6 * (np.random.normal(x[i]** 2, y_error[i])) for i in range(num_points)]\n",
    "            genfn = 0.5 + 0.5 * newx - 0.6 * newx ** 2\n",
    "    else:\n",
    "        if modeltype == \"Linear model\":\n",
    "            var1, var2 = np.random.uniform(-1, 1), np.random.uniform(-1, 1)\n",
    "            y = [var1 + var2 * np.random.normal(x[i], y_error[i]) for i in range(num_points)]\n",
    "            genfn = var1 + var2 * newx\n",
    "        elif modeltype == \"Quadratic model\":\n",
    "            var1, var2, var3 = np.random.uniform(-1, 1), np.random.uniform(-1, 1), np.random.uniform(-1, 1)\n",
    "            y = [var1 + var2 * np.random.normal(x[i], y_error[i]) + var3 * (np.random.normal(x[i]** 2, y_error[i])) for i in range(num_points)]\n",
    "            genfn = var1 + var2 * newx + var3 * newx ** 2\n",
    "\n",
    "    lin_params, lin_fit_line, lin_chisq, lin_dof, lin_p_value, lin_fit_acceptable = lin_chisq_fit(x, y, y_error)\n",
    "    quad_params, quad_fit_line, quad_chisq, quad_dof, quad_p_value, quad_fit_acceptable = quad_chisq_fit(x, y, y_error)\n",
    "\n",
    "    lin_fit_line_smooth = lin_params[0] + lin_params[1] * newx\n",
    "    quad_fit_line_smooth = quad_params[0] + quad_params[1] * newx + quad_params[2] * newx ** 2\n",
    "\n",
    "    return {\n",
    "        'x': x,\n",
    "        'y': y,\n",
    "        'y_error': y_error,\n",
    "        'num_points': num_points,\n",
    "        'errortype': errortype,\n",
    "        'errorsize': errorsize,\n",
    "        'uniform_spacing': uniform_spacing,\n",
    "        'genfn': genfn,\n",
    "        'newx': newx,\n",
    "        'fixedparams': fixedparams,\n",
    "        'lin_fit_line': lin_fit_line_smooth,\n",
    "        'lin_chisq': lin_chisq,\n",
    "        'lin_dof': lin_dof,\n",
    "        'lin_p_value': lin_p_value,\n",
    "        'lin_p_value_formatted': f'{lin_p_value:.4f}',\n",
    "        'lin_fit_acceptable': lin_fit_acceptable,\n",
    "        'quad_fit_line': quad_fit_line_smooth,\n",
    "        'quad_chisq': quad_chisq,\n",
    "        'quad_dof': quad_dof,\n",
    "        'quad_p_value': quad_p_value,\n",
    "        'quad_p_value_formatted': f'{quad_p_value:.4f}',\n",
    "        'quad_fit_acceptable': quad_fit_acceptable,\n",
    "        'model': modeltype\n",
    "    }\n",
    "\n",
    "# Widgets for interactive controls\n",
    "num_points_widget = widgets.IntSlider(min=3, max=100, step=1, value=10, description='Data points:')\n",
    "num_datasets_widget = widgets.IntSlider(min=1, max=100, step=1, value=1, description='Number of datasets:')\n",
    "errortype_widget = widgets.Dropdown(options=[\"Homoscedastic\", \"Heteroscedastic\"], value=\"Homoscedastic\", description='Error type:')\n",
    "errorsize_widget = widgets.Dropdown(options=[\"Small\", \"Medium\", \"Large\", \"Huge\"], value=\"Medium\", description='Error size:')\n",
    "pointspacing_widget = widgets.Checkbox(value=True, description='Uniform spacing')\n",
    "fixedparams_widget = widgets.Checkbox(value=True, description='Fixed parameters')\n",
    "modeltype_widget = widgets.Dropdown(options=[\"Linear model\", \"Quadratic model\"], value=\"Quadratic model\", description='Model type:')\n",
    "showgenmodel_widget = widgets.Checkbox(value=True, description='Show generating model')\n",
    "showlinearfit_widget = widgets.Checkbox(value=False, description='Show linear fit')\n",
    "showquadfit_widget = widgets.Checkbox(value=False, description='Show quadratic fit')\n",
    "sort_options = widgets.Dropdown(options=[\"None\", \"Chi-squared (Linear)\", \"P-value (Linear)\", \"Chi-squared (Quadratic)\", \"P-value (Quadratic)\"], value=\"None\", description='Sort by:')\n",
    "dataset_selector = widgets.Dropdown(description='Select dataset:')\n",
    "regenerate_button = widgets.Button(description=\"Generate new data\")\n",
    "output = widgets.Output()\n",
    "\n",
    "data_storage = {'data': [], 'chisqs': [], 'pvals': [], 'indexes': [], 'fit_acceptability': []}\n",
    "\n",
    "# Function to regenerate data\n",
    "def regenerate_data(*args):\n",
    "    with output:\n",
    "        clear_output(wait=True)\n",
    "        \n",
    "        data_storage['data'] = []\n",
    "        data_storage['chisqs'] = []\n",
    "        data_storage['pvals'] = []\n",
    "        data_storage['indexes'] = []\n",
    "        data_storage['fit_acceptability'] = []\n",
    "\n",
    "        num_datasets = num_datasets_widget.value\n",
    "        num_points = num_points_widget.value\n",
    "        errortype = errortype_widget.value\n",
    "        errorsize = errorsize_widget.value\n",
    "        uniform_spacing = pointspacing_widget.value\n",
    "        fixedparams = fixedparams_widget.value\n",
    "        modeltype = modeltype_widget.value\n",
    "        \n",
    "        for i in range(num_datasets):\n",
    "            dataset = generate_data(num_points, errortype, errorsize, uniform_spacing, fixedparams, modeltype)\n",
    "            data_storage['data'].append(dataset)\n",
    "            data_storage['chisqs'].append({\n",
    "                'linear': dataset['lin_chisq'],\n",
    "                'quadratic': dataset['quad_chisq']\n",
    "            })\n",
    "            data_storage['pvals'].append({\n",
    "                'linear': dataset['lin_p_value'],\n",
    "                'quadratic': dataset['quad_p_value']\n",
    "            })\n",
    "            data_storage['indexes'].append(i)\n",
    "            data_storage['fit_acceptability'].append({\n",
    "                'linear': dataset['lin_fit_acceptable'],\n",
    "                'quadratic': dataset['quad_fit_acceptable']\n",
    "            })\n",
    "        \n",
    "        update_dataset_selector()\n",
    "\n",
    "# Function to update dataset selector options\n",
    "# Define sorted_options globally\n",
    "sorted_options = []\n",
    "\n",
    "def update_dataset_selector():\n",
    "    global sorted_options  # Gives access to the globally defined \"sorted_options\" variable\n",
    "    \n",
    "    num_datasets = num_datasets_widget.value\n",
    "    options = [\n",
    "        (i, f'Dataset {i+1}: Linear χ²={data_storage[\"chisqs\"][i][\"linear\"]:.2f}, P-value={data_storage[\"pvals\"][i][\"linear\"]:.4f} | '\n",
    "         f'Quadratic χ²={data_storage[\"chisqs\"][i][\"quadratic\"]:.2f}, P-value={data_storage[\"pvals\"][i][\"quadratic\"]:.4f}')\n",
    "        for i in range(num_datasets)\n",
    "    ]\n",
    "    \n",
    "    # Apply sorting if needed\n",
    "    sort_by = sort_options.value\n",
    "    if sort_by == \"Chi-squared (Linear)\": sorted_indices = sorted(data_storage['indexes'], key=lambda i: data_storage['chisqs'][i]['linear'])\n",
    "    elif sort_by == \"P-value (Linear)\": sorted_indices = sorted(data_storage['indexes'], key=lambda i: data_storage['pvals'][i]['linear'])\n",
    "    elif sort_by == \"Chi-squared (Quadratic)\": sorted_indices = sorted(data_storage['indexes'], key=lambda i: data_storage['chisqs'][i]['quadratic'])\n",
    "    elif sort_by == \"P-value (Quadratic)\": sorted_indices = sorted(data_storage['indexes'], key=lambda i: data_storage['pvals'][i]['quadratic'])\n",
    "    else: sorted_indices = data_storage['indexes']\n",
    "    \n",
    "    sorted_options = [(i, options[i][1]) for i in sorted_indices]\n",
    "    dataset_selector.options = [label for index, label in sorted_options]\n",
    "    \n",
    "    if num_datasets > 0:\n",
    "        dataset_selector.value = dataset_selector.options[0]\n",
    "        \n",
    "    update_chart()\n",
    "\n",
    "def update_chart(*args):\n",
    "    global sorted_options  # Access global variable\n",
    "    \n",
    "    with output:\n",
    "        clear_output(wait=True)\n",
    "        \n",
    "        if not dataset_selector.options: return  # Avoid errors if no options are available\n",
    "        \n",
    "        selected_option = dataset_selector.value\n",
    "        selected_index = next(index for index, label in sorted_options if label == selected_option)\n",
    "        dataset = data_storage['data'][selected_index]\n",
    "        \n",
    "        fig, (ax1, ax2) = plt.subplots(1, 2, figsize=(16, 8))\n",
    "        \n",
    "        x = dataset['x']\n",
    "        y = dataset['y']\n",
    "        y_error = dataset['y_error']\n",
    "        \n",
    "        # Plot fitting lines and data points\n",
    "        if showgenmodel_widget.value: ax1.plot(dataset['newx'], dataset['genfn'], 'k--', label='Generating Model', alpha=0.5)\n",
    "        if showlinearfit_widget.value: ax1.plot(dataset['newx'], dataset['lin_fit_line'], 'b-', label=f'Linear Fit: χ²={dataset[\"lin_chisq\"]:.2f}, dof={dataset[\"lin_dof\"]}, P(χ²,dof)={dataset[\"lin_p_value_formatted\"]}, {dataset[\"lin_fit_acceptable\"]}')\n",
    "        if showquadfit_widget.value: ax1.plot(dataset['newx'], dataset['quad_fit_line'], 'r-', label=f'Quadratic Fit: χ²={dataset[\"quad_chisq\"]:.2f}, dof={dataset[\"quad_dof\"]}, P(χ²,dof)={dataset[\"quad_p_value_formatted\"]}, {dataset[\"quad_fit_acceptable\"]}')\n",
    "        \n",
    "        ax1.errorbar(x, y, yerr=y_error, fmt='o', color='black')\n",
    "        ax1.set_xlabel('X')\n",
    "        ax1.set_ylabel('Y')\n",
    "        ax1.legend()\n",
    "        ax1.set_title(f'Dataset {selected_index + 1}')\n",
    "\n",
    "        # Plot histogram of chi-squared values\n",
    "        lin_chisqs = [dataset['lin_chisq'] for dataset in data_storage['data']]\n",
    "        quad_chisqs = [dataset['quad_chisq'] for dataset in data_storage['data']]\n",
    "        bins = np.linspace(0, max(max(lin_chisqs), max(quad_chisqs)), 30)\n",
    "        \n",
    "        ax2.hist(lin_chisqs, bins, alpha=0.5, color='b', label='Linear Fit χ²')\n",
    "        ax2.hist(quad_chisqs, bins, alpha=0.5, color='r', label='Quadratic Fit χ²')\n",
    "\n",
    "        # Add dotted lines for the chi-squared values of the selected dataset\n",
    "        ax2.axvline(dataset['lin_chisq'], color='b', linestyle=':', label='Linear Fit χ² of ' + f'Dataset {selected_index + 1}')\n",
    "        ax2.axvline(dataset['quad_chisq'], color='r', linestyle=':', label='Quadratic Fit χ² of '+ f'Dataset {selected_index + 1}')\n",
    "        \n",
    "        ax2.set_xlabel('Chi-squared')\n",
    "        ax2.set_ylabel('Frequency')\n",
    "        ax2.legend()\n",
    "        ax2.set_title('Histogram of Chi-squared Values')\n",
    "\n",
    "        plt.tight_layout()\n",
    "        plt.show()\n",
    "\n",
    "\n",
    "\n",
    "# Link widget events to functions\n",
    "num_points_widget.observe(lambda x: regenerate_data(), names='value')\n",
    "num_datasets_widget.observe(lambda x: regenerate_data(), names='value')\n",
    "errortype_widget.observe(lambda x: regenerate_data(), names='value')\n",
    "errorsize_widget.observe(lambda x: regenerate_data(), names='value')\n",
    "pointspacing_widget.observe(lambda x: regenerate_data(), names='value')\n",
    "fixedparams_widget.observe(lambda x: regenerate_data(), names='value')\n",
    "modeltype_widget.observe(lambda x: regenerate_data(), names='value')\n",
    "showgenmodel_widget.observe(lambda x: update_chart(), names='value')\n",
    "showlinearfit_widget.observe(lambda x: update_chart(), names='value')\n",
    "showquadfit_widget.observe(lambda x: update_chart(), names='value')\n",
    "sort_options.observe(lambda x: update_dataset_selector(), names='value')\n",
    "dataset_selector.observe(lambda x: update_chart(), names='value')\n",
    "regenerate_button.on_click(lambda x: regenerate_data())\n",
    "\n",
    "# Display widgets and output\n",
    "display(num_points_widget, num_datasets_widget, errortype_widget, errorsize_widget, pointspacing_widget, fixedparams_widget, modeltype_widget, showgenmodel_widget, showlinearfit_widget, showquadfit_widget, sort_options, dataset_selector, regenerate_button, output)\n",
    "\n"
   ]
  },
  {
   "cell_type": "code",
   "execution_count": null,
   "metadata": {},
   "outputs": [],
   "source": []
  },
  {
   "cell_type": "code",
   "execution_count": null,
   "metadata": {},
   "outputs": [],
   "source": []
  },
  {
   "cell_type": "code",
   "execution_count": null,
   "metadata": {},
   "outputs": [],
   "source": []
  },
  {
   "cell_type": "code",
   "execution_count": null,
   "metadata": {},
   "outputs": [],
   "source": []
  },
  {
   "cell_type": "code",
   "execution_count": null,
   "metadata": {},
   "outputs": [],
   "source": []
  }
 ],
 "metadata": {
  "kernelspec": {
   "display_name": "Python 3",
   "language": "python",
   "name": "python3"
  },
  "language_info": {
   "codemirror_mode": {
    "name": "ipython",
    "version": 3
   },
   "file_extension": ".py",
   "mimetype": "text/x-python",
   "name": "python",
   "nbconvert_exporter": "python",
   "pygments_lexer": "ipython3",
   "version": "3.9.7"
  }
 },
 "nbformat": 4,
 "nbformat_minor": 2
}
